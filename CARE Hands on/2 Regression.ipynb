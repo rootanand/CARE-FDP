{
 "cells": [
  {
   "cell_type": "code",
   "execution_count": 22,
   "metadata": {},
   "outputs": [],
   "source": [
    "import pandas as pd\n",
    "# Varies with sklearn version\n",
    "from sklearn.model_selection import train_test_split\n",
    "from sklearn import ensemble\n",
    "from sklearn.metrics import mean_absolute_error\n",
    "import seaborn as sns\n",
    "sns.set()"
   ]
  },
  {
   "cell_type": "code",
   "execution_count": 23,
   "metadata": {},
   "outputs": [
    {
     "data": {
      "text/html": [
       "<div>\n",
       "<style scoped>\n",
       "    .dataframe tbody tr th:only-of-type {\n",
       "        vertical-align: middle;\n",
       "    }\n",
       "\n",
       "    .dataframe tbody tr th {\n",
       "        vertical-align: top;\n",
       "    }\n",
       "\n",
       "    .dataframe thead th {\n",
       "        text-align: right;\n",
       "    }\n",
       "</style>\n",
       "<table border=\"1\" class=\"dataframe\">\n",
       "  <thead>\n",
       "    <tr style=\"text-align: right;\">\n",
       "      <th></th>\n",
       "      <th>year_built</th>\n",
       "      <th>stories</th>\n",
       "      <th>num_bedrooms</th>\n",
       "      <th>full_bathrooms</th>\n",
       "      <th>half_bathrooms</th>\n",
       "      <th>livable_sqft</th>\n",
       "      <th>total_sqft</th>\n",
       "      <th>garage_type</th>\n",
       "      <th>garage_sqft</th>\n",
       "      <th>carport_sqft</th>\n",
       "      <th>has_fireplace</th>\n",
       "      <th>has_pool</th>\n",
       "      <th>has_central_heating</th>\n",
       "      <th>has_central_cooling</th>\n",
       "      <th>house_number</th>\n",
       "      <th>street_name</th>\n",
       "      <th>unit_number</th>\n",
       "      <th>city</th>\n",
       "      <th>zip_code</th>\n",
       "      <th>sale_price</th>\n",
       "    </tr>\n",
       "  </thead>\n",
       "  <tbody>\n",
       "    <tr>\n",
       "      <th>0</th>\n",
       "      <td>1978</td>\n",
       "      <td>1</td>\n",
       "      <td>4</td>\n",
       "      <td>1</td>\n",
       "      <td>1</td>\n",
       "      <td>1689</td>\n",
       "      <td>1859</td>\n",
       "      <td>attached</td>\n",
       "      <td>508</td>\n",
       "      <td>0</td>\n",
       "      <td>True</td>\n",
       "      <td>False</td>\n",
       "      <td>True</td>\n",
       "      <td>True</td>\n",
       "      <td>42670</td>\n",
       "      <td>Lopez Crossing</td>\n",
       "      <td>NaN</td>\n",
       "      <td>Hallfort</td>\n",
       "      <td>10907</td>\n",
       "      <td>270897.0</td>\n",
       "    </tr>\n",
       "    <tr>\n",
       "      <th>1</th>\n",
       "      <td>1958</td>\n",
       "      <td>1</td>\n",
       "      <td>3</td>\n",
       "      <td>1</td>\n",
       "      <td>1</td>\n",
       "      <td>1984</td>\n",
       "      <td>2002</td>\n",
       "      <td>attached</td>\n",
       "      <td>462</td>\n",
       "      <td>0</td>\n",
       "      <td>True</td>\n",
       "      <td>False</td>\n",
       "      <td>True</td>\n",
       "      <td>True</td>\n",
       "      <td>5194</td>\n",
       "      <td>Gardner Park</td>\n",
       "      <td>NaN</td>\n",
       "      <td>Hallfort</td>\n",
       "      <td>10907</td>\n",
       "      <td>302404.0</td>\n",
       "    </tr>\n",
       "    <tr>\n",
       "      <th>2</th>\n",
       "      <td>2002</td>\n",
       "      <td>1</td>\n",
       "      <td>3</td>\n",
       "      <td>2</td>\n",
       "      <td>0</td>\n",
       "      <td>1581</td>\n",
       "      <td>1578</td>\n",
       "      <td>none</td>\n",
       "      <td>0</td>\n",
       "      <td>625</td>\n",
       "      <td>False</td>\n",
       "      <td>False</td>\n",
       "      <td>True</td>\n",
       "      <td>True</td>\n",
       "      <td>4366</td>\n",
       "      <td>Harding Islands</td>\n",
       "      <td>NaN</td>\n",
       "      <td>Lake Christinaport</td>\n",
       "      <td>11203</td>\n",
       "      <td>2519996.0</td>\n",
       "    </tr>\n",
       "    <tr>\n",
       "      <th>3</th>\n",
       "      <td>2004</td>\n",
       "      <td>1</td>\n",
       "      <td>4</td>\n",
       "      <td>2</td>\n",
       "      <td>0</td>\n",
       "      <td>1829</td>\n",
       "      <td>2277</td>\n",
       "      <td>attached</td>\n",
       "      <td>479</td>\n",
       "      <td>0</td>\n",
       "      <td>True</td>\n",
       "      <td>False</td>\n",
       "      <td>True</td>\n",
       "      <td>True</td>\n",
       "      <td>3302</td>\n",
       "      <td>Michelle Highway</td>\n",
       "      <td>NaN</td>\n",
       "      <td>Lake Christinaport</td>\n",
       "      <td>11203</td>\n",
       "      <td>197193.0</td>\n",
       "    </tr>\n",
       "    <tr>\n",
       "      <th>4</th>\n",
       "      <td>2006</td>\n",
       "      <td>1</td>\n",
       "      <td>4</td>\n",
       "      <td>2</td>\n",
       "      <td>0</td>\n",
       "      <td>1580</td>\n",
       "      <td>1749</td>\n",
       "      <td>attached</td>\n",
       "      <td>430</td>\n",
       "      <td>0</td>\n",
       "      <td>True</td>\n",
       "      <td>False</td>\n",
       "      <td>True</td>\n",
       "      <td>True</td>\n",
       "      <td>582</td>\n",
       "      <td>Jacob Cape</td>\n",
       "      <td>NaN</td>\n",
       "      <td>Lake Christinaport</td>\n",
       "      <td>11203</td>\n",
       "      <td>207897.0</td>\n",
       "    </tr>\n",
       "  </tbody>\n",
       "</table>\n",
       "</div>"
      ],
      "text/plain": [
       "   year_built  stories  num_bedrooms  full_bathrooms  half_bathrooms  \\\n",
       "0        1978        1             4               1               1   \n",
       "1        1958        1             3               1               1   \n",
       "2        2002        1             3               2               0   \n",
       "3        2004        1             4               2               0   \n",
       "4        2006        1             4               2               0   \n",
       "\n",
       "   livable_sqft  total_sqft garage_type  garage_sqft  carport_sqft  \\\n",
       "0          1689        1859    attached          508             0   \n",
       "1          1984        2002    attached          462             0   \n",
       "2          1581        1578        none            0           625   \n",
       "3          1829        2277    attached          479             0   \n",
       "4          1580        1749    attached          430             0   \n",
       "\n",
       "   has_fireplace  has_pool  has_central_heating  has_central_cooling  \\\n",
       "0           True     False                 True                 True   \n",
       "1           True     False                 True                 True   \n",
       "2          False     False                 True                 True   \n",
       "3           True     False                 True                 True   \n",
       "4           True     False                 True                 True   \n",
       "\n",
       "   house_number       street_name  unit_number                city  zip_code  \\\n",
       "0         42670    Lopez Crossing          NaN            Hallfort     10907   \n",
       "1          5194      Gardner Park          NaN            Hallfort     10907   \n",
       "2          4366   Harding Islands          NaN  Lake Christinaport     11203   \n",
       "3          3302  Michelle Highway          NaN  Lake Christinaport     11203   \n",
       "4           582        Jacob Cape          NaN  Lake Christinaport     11203   \n",
       "\n",
       "   sale_price  \n",
       "0    270897.0  \n",
       "1    302404.0  \n",
       "2   2519996.0  \n",
       "3    197193.0  \n",
       "4    207897.0  "
      ]
     },
     "execution_count": 23,
     "metadata": {},
     "output_type": "execute_result"
    }
   ],
   "source": [
    "# Load the data set\n",
    "df = pd.read_csv(\"ml_house_data_set.csv\")\n",
    "df.head()"
   ]
  },
  {
   "cell_type": "code",
   "execution_count": 3,
   "metadata": {},
   "outputs": [
    {
     "name": "stdout",
     "output_type": "stream",
     "text": [
      "<class 'pandas.core.frame.DataFrame'>\n",
      "RangeIndex: 42703 entries, 0 to 42702\n",
      "Data columns (total 20 columns):\n",
      " #   Column               Non-Null Count  Dtype  \n",
      "---  ------               --------------  -----  \n",
      " 0   year_built           42703 non-null  int64  \n",
      " 1   stories              42703 non-null  int64  \n",
      " 2   num_bedrooms         42703 non-null  int64  \n",
      " 3   full_bathrooms       42703 non-null  int64  \n",
      " 4   half_bathrooms       42703 non-null  int64  \n",
      " 5   livable_sqft         42703 non-null  int64  \n",
      " 6   total_sqft           42703 non-null  int64  \n",
      " 7   garage_type          42703 non-null  object \n",
      " 8   garage_sqft          42703 non-null  int64  \n",
      " 9   carport_sqft         42703 non-null  int64  \n",
      " 10  has_fireplace        42703 non-null  bool   \n",
      " 11  has_pool             42703 non-null  bool   \n",
      " 12  has_central_heating  42703 non-null  bool   \n",
      " 13  has_central_cooling  42703 non-null  bool   \n",
      " 14  house_number         42703 non-null  int64  \n",
      " 15  street_name          42703 non-null  object \n",
      " 16  unit_number          3088 non-null   float64\n",
      " 17  city                 42703 non-null  object \n",
      " 18  zip_code             42703 non-null  int64  \n",
      " 19  sale_price           42703 non-null  float64\n",
      "dtypes: bool(4), float64(2), int64(11), object(3)\n",
      "memory usage: 5.4+ MB\n"
     ]
    }
   ],
   "source": [
    "df.info()"
   ]
  },
  {
   "cell_type": "code",
   "execution_count": 24,
   "metadata": {
    "scrolled": true
   },
   "outputs": [
    {
     "data": {
      "text/html": [
       "<div>\n",
       "<style scoped>\n",
       "    .dataframe tbody tr th:only-of-type {\n",
       "        vertical-align: middle;\n",
       "    }\n",
       "\n",
       "    .dataframe tbody tr th {\n",
       "        vertical-align: top;\n",
       "    }\n",
       "\n",
       "    .dataframe thead th {\n",
       "        text-align: right;\n",
       "    }\n",
       "</style>\n",
       "<table border=\"1\" class=\"dataframe\">\n",
       "  <thead>\n",
       "    <tr style=\"text-align: right;\">\n",
       "      <th></th>\n",
       "      <th>year_built</th>\n",
       "      <th>stories</th>\n",
       "      <th>num_bedrooms</th>\n",
       "      <th>full_bathrooms</th>\n",
       "      <th>half_bathrooms</th>\n",
       "      <th>livable_sqft</th>\n",
       "      <th>total_sqft</th>\n",
       "      <th>garage_type</th>\n",
       "      <th>garage_sqft</th>\n",
       "      <th>carport_sqft</th>\n",
       "      <th>has_fireplace</th>\n",
       "      <th>has_pool</th>\n",
       "      <th>has_central_heating</th>\n",
       "      <th>has_central_cooling</th>\n",
       "      <th>city</th>\n",
       "      <th>sale_price</th>\n",
       "    </tr>\n",
       "  </thead>\n",
       "  <tbody>\n",
       "    <tr>\n",
       "      <th>0</th>\n",
       "      <td>1978</td>\n",
       "      <td>1</td>\n",
       "      <td>4</td>\n",
       "      <td>1</td>\n",
       "      <td>1</td>\n",
       "      <td>1689</td>\n",
       "      <td>1859</td>\n",
       "      <td>attached</td>\n",
       "      <td>508</td>\n",
       "      <td>0</td>\n",
       "      <td>True</td>\n",
       "      <td>False</td>\n",
       "      <td>True</td>\n",
       "      <td>True</td>\n",
       "      <td>Hallfort</td>\n",
       "      <td>270897.0</td>\n",
       "    </tr>\n",
       "    <tr>\n",
       "      <th>1</th>\n",
       "      <td>1958</td>\n",
       "      <td>1</td>\n",
       "      <td>3</td>\n",
       "      <td>1</td>\n",
       "      <td>1</td>\n",
       "      <td>1984</td>\n",
       "      <td>2002</td>\n",
       "      <td>attached</td>\n",
       "      <td>462</td>\n",
       "      <td>0</td>\n",
       "      <td>True</td>\n",
       "      <td>False</td>\n",
       "      <td>True</td>\n",
       "      <td>True</td>\n",
       "      <td>Hallfort</td>\n",
       "      <td>302404.0</td>\n",
       "    </tr>\n",
       "    <tr>\n",
       "      <th>2</th>\n",
       "      <td>2002</td>\n",
       "      <td>1</td>\n",
       "      <td>3</td>\n",
       "      <td>2</td>\n",
       "      <td>0</td>\n",
       "      <td>1581</td>\n",
       "      <td>1578</td>\n",
       "      <td>none</td>\n",
       "      <td>0</td>\n",
       "      <td>625</td>\n",
       "      <td>False</td>\n",
       "      <td>False</td>\n",
       "      <td>True</td>\n",
       "      <td>True</td>\n",
       "      <td>Lake Christinaport</td>\n",
       "      <td>2519996.0</td>\n",
       "    </tr>\n",
       "    <tr>\n",
       "      <th>3</th>\n",
       "      <td>2004</td>\n",
       "      <td>1</td>\n",
       "      <td>4</td>\n",
       "      <td>2</td>\n",
       "      <td>0</td>\n",
       "      <td>1829</td>\n",
       "      <td>2277</td>\n",
       "      <td>attached</td>\n",
       "      <td>479</td>\n",
       "      <td>0</td>\n",
       "      <td>True</td>\n",
       "      <td>False</td>\n",
       "      <td>True</td>\n",
       "      <td>True</td>\n",
       "      <td>Lake Christinaport</td>\n",
       "      <td>197193.0</td>\n",
       "    </tr>\n",
       "    <tr>\n",
       "      <th>4</th>\n",
       "      <td>2006</td>\n",
       "      <td>1</td>\n",
       "      <td>4</td>\n",
       "      <td>2</td>\n",
       "      <td>0</td>\n",
       "      <td>1580</td>\n",
       "      <td>1749</td>\n",
       "      <td>attached</td>\n",
       "      <td>430</td>\n",
       "      <td>0</td>\n",
       "      <td>True</td>\n",
       "      <td>False</td>\n",
       "      <td>True</td>\n",
       "      <td>True</td>\n",
       "      <td>Lake Christinaport</td>\n",
       "      <td>207897.0</td>\n",
       "    </tr>\n",
       "  </tbody>\n",
       "</table>\n",
       "</div>"
      ],
      "text/plain": [
       "   year_built  stories  num_bedrooms  full_bathrooms  half_bathrooms  \\\n",
       "0        1978        1             4               1               1   \n",
       "1        1958        1             3               1               1   \n",
       "2        2002        1             3               2               0   \n",
       "3        2004        1             4               2               0   \n",
       "4        2006        1             4               2               0   \n",
       "\n",
       "   livable_sqft  total_sqft garage_type  garage_sqft  carport_sqft  \\\n",
       "0          1689        1859    attached          508             0   \n",
       "1          1984        2002    attached          462             0   \n",
       "2          1581        1578        none            0           625   \n",
       "3          1829        2277    attached          479             0   \n",
       "4          1580        1749    attached          430             0   \n",
       "\n",
       "   has_fireplace  has_pool  has_central_heating  has_central_cooling  \\\n",
       "0           True     False                 True                 True   \n",
       "1           True     False                 True                 True   \n",
       "2          False     False                 True                 True   \n",
       "3           True     False                 True                 True   \n",
       "4           True     False                 True                 True   \n",
       "\n",
       "                 city  sale_price  \n",
       "0            Hallfort    270897.0  \n",
       "1            Hallfort    302404.0  \n",
       "2  Lake Christinaport   2519996.0  \n",
       "3  Lake Christinaport    197193.0  \n",
       "4  Lake Christinaport    207897.0  "
      ]
     },
     "execution_count": 24,
     "metadata": {},
     "output_type": "execute_result"
    }
   ],
   "source": [
    "# Remove the fields from the data set that we don't want to include in our model\n",
    "del df['house_number']\n",
    "del df['unit_number']\n",
    "del df['street_name']\n",
    "del df['zip_code']\n",
    "\n",
    "df.head()"
   ]
  },
  {
   "cell_type": "code",
   "execution_count": 25,
   "metadata": {},
   "outputs": [
    {
     "data": {
      "image/png": "[encoded data removed]",
      "text/plain": [
       "<Figure size 360x360 with 1 Axes>"
      ]
     },
     "metadata": {},
     "output_type": "display_data"
    }
   ],
   "source": [
    "sns.displot(data=df, x=\"garage_type\");"
   ]
  },
  {
   "cell_type": "code",
   "execution_count": 26,
   "metadata": {},
   "outputs": [
    {
     "data": {
      "image/png": "[encoded data removed]",
      "text/plain": [
       "<Figure size 360x360 with 1 Axes>"
      ]
     },
     "metadata": {},
     "output_type": "display_data"
    }
   ],
   "source": [
    "sns.displot(data=df, x=\"city\");"
   ]
  },
  {
   "cell_type": "code",
   "execution_count": 27,
   "metadata": {},
   "outputs": [
    {
     "data": {
      "image/png": "[encoded data removed]",
      "text/plain": [
       "<Figure size 900x360 with 1 Axes>"
      ]
     },
     "metadata": {},
     "output_type": "display_data"
    }
   ],
   "source": [
    "sns.displot(data=df, x=\"city\",aspect=5/2);"
   ]
  },
  {
   "cell_type": "code",
   "execution_count": 28,
   "metadata": {},
   "outputs": [
    {
     "data": {
      "text/plain": [
       "array(['Hallfort', 'Lake Christinaport', 'Morrisport', 'West Ann',\n",
       "       'Richardport', 'Lewishaven', 'Clarkberg', 'Chadstad',\n",
       "       'South Stevenfurt', 'Coletown', 'South Anthony', 'Jenniferberg',\n",
       "       'North Erinville', 'Lake Jennifer', 'West Terrence',\n",
       "       'Jeffreyhaven', 'Brownport', 'Scottberg', 'Lake Carolyn',\n",
       "       'East Amychester', 'Joshuafurt', 'Davidtown',\n",
       "       'Port Jonathanborough', 'Lake Jack', 'Port Andrealand',\n",
       "       'Toddshire', 'Port Daniel', 'East Lucas', 'West Gregoryview',\n",
       "       'Lake Dariusborough', 'West Lydia', 'Davidfort', 'Wendybury',\n",
       "       'Amystad', 'Martinezfort', 'East Justin', 'West Brittanyview',\n",
       "       'New Michele', 'East Janiceville', 'Port Adamtown', 'Justinport',\n",
       "       'West Gerald', 'Fosterberg', 'Leahview', 'Rickytown', 'Julieberg',\n",
       "       'New Robinton'], dtype=object)"
      ]
     },
     "execution_count": 28,
     "metadata": {},
     "output_type": "execute_result"
    }
   ],
   "source": [
    "df['city'].unique()"
   ]
  },
  {
   "cell_type": "code",
   "execution_count": 29,
   "metadata": {
    "scrolled": true
   },
   "outputs": [
    {
     "data": {
      "text/plain": [
       "47"
      ]
     },
     "execution_count": 29,
     "metadata": {},
     "output_type": "execute_result"
    }
   ],
   "source": [
    "len(df['city'].unique())"
   ]
  },
  {
   "cell_type": "code",
   "execution_count": 30,
   "metadata": {},
   "outputs": [
    {
     "data": {
      "text/plain": [
       "<seaborn.axisgrid.FacetGrid at 0x20e707b0520>"
      ]
     },
     "execution_count": 30,
     "metadata": {},
     "output_type": "execute_result"
    },
    {
     "data": {
      "image/png": "[encoded data removed]",
      "text/plain": [
       "<Figure size 1200x360 with 1 Axes>"
      ]
     },
     "metadata": {},
     "output_type": "display_data"
    }
   ],
   "source": [
    "sns.catplot(x=\"city\", y=\"sale_price\", data=df,aspect=10/3,kind='boxen')"
   ]
  },
  {
   "cell_type": "code",
   "execution_count": 10,
   "metadata": {
    "scrolled": true
   },
   "outputs": [
    {
     "data": {
      "text/plain": [
       "Index(['year_built', 'stories', 'num_bedrooms', 'full_bathrooms',\n",
       "       'half_bathrooms', 'livable_sqft', 'total_sqft', 'garage_sqft',\n",
       "       'carport_sqft', 'has_fireplace', 'has_pool', 'has_central_heating',\n",
       "       'has_central_cooling', 'sale_price', 'garage_type_attached',\n",
       "       'garage_type_detached', 'garage_type_none', 'city_Amystad',\n",
       "       'city_Brownport', 'city_Chadstad', 'city_Clarkberg', 'city_Coletown',\n",
       "       'city_Davidfort', 'city_Davidtown', 'city_East Amychester',\n",
       "       'city_East Janiceville', 'city_East Justin', 'city_East Lucas',\n",
       "       'city_Fosterberg', 'city_Hallfort', 'city_Jeffreyhaven',\n",
       "       'city_Jenniferberg', 'city_Joshuafurt', 'city_Julieberg',\n",
       "       'city_Justinport', 'city_Lake Carolyn', 'city_Lake Christinaport',\n",
       "       'city_Lake Dariusborough', 'city_Lake Jack', 'city_Lake Jennifer',\n",
       "       'city_Leahview', 'city_Lewishaven', 'city_Martinezfort',\n",
       "       'city_Morrisport', 'city_New Michele', 'city_New Robinton',\n",
       "       'city_North Erinville', 'city_Port Adamtown', 'city_Port Andrealand',\n",
       "       'city_Port Daniel', 'city_Port Jonathanborough', 'city_Richardport',\n",
       "       'city_Rickytown', 'city_Scottberg', 'city_South Anthony',\n",
       "       'city_South Stevenfurt', 'city_Toddshire', 'city_Wendybury',\n",
       "       'city_West Ann', 'city_West Brittanyview', 'city_West Gerald',\n",
       "       'city_West Gregoryview', 'city_West Lydia', 'city_West Terrence'],\n",
       "      dtype='object')"
      ]
     },
     "execution_count": 10,
     "metadata": {},
     "output_type": "execute_result"
    }
   ],
   "source": [
    "# Replace categorical data with one-hot encoded data\n",
    "features_df = pd.get_dummies(df, columns=['garage_type', 'city'])\n",
    "features_df.columns"
   ]
  },
  {
   "cell_type": "code",
   "execution_count": null,
   "metadata": {},
   "outputs": [],
   "source": [
    "# Remove the sale price from the feature data\n",
    "del features_df['sale_price']\n",
    "\n",
    "# Create the X and y arrays\n",
    "X = features_df.values\n",
    "y = df['sale_price'].values"
   ]
  },
  {
   "cell_type": "code",
   "execution_count": 32,
   "metadata": {},
   "outputs": [
    {
     "data": {
      "text/plain": [
       "(array([[1978, 1, 4, ..., 0, 0, 0],\n",
       "        [1958, 1, 3, ..., 0, 0, 0],\n",
       "        [2002, 1, 3, ..., 0, 0, 0],\n",
       "        ...,\n",
       "        [1983, 1, 1, ..., 0, 0, 0],\n",
       "        [1981, 1, 3, ..., 0, 0, 0],\n",
       "        [1980, 1, 3, ..., 0, 0, 0]], dtype=object),\n",
       " array([ 270897.,  302404., 2519996., ...,   98280.,   98278.,  186480.]))"
      ]
     },
     "execution_count": 32,
     "metadata": {},
     "output_type": "execute_result"
    }
   ],
   "source": [
    "X,y"
   ]
  },
  {
   "cell_type": "code",
   "execution_count": 12,
   "metadata": {},
   "outputs": [
    {
     "data": {
      "text/plain": [
       "(array([[1987, 1, 3, ..., 0, 0, 0],\n",
       "        [1985, 1, 3, ..., 0, 0, 0],\n",
       "        [1990, 1, 4, ..., 0, 0, 0],\n",
       "        ...,\n",
       "        [1989, 2, 3, ..., 0, 0, 0],\n",
       "        [1998, 1, 4, ..., 0, 0, 0],\n",
       "        [2002, 1, 4, ..., 0, 0, 0]], dtype=object),\n",
       " array([[2003, 1, 4, ..., 0, 0, 0],\n",
       "        [2014, 2, 3, ..., 0, 0, 0],\n",
       "        [2005, 1, 3, ..., 0, 0, 0],\n",
       "        ...,\n",
       "        [1984, 1, 2, ..., 0, 0, 0],\n",
       "        [2015, 2, 5, ..., 0, 0, 0],\n",
       "        [2006, 2, 3, ..., 1, 0, 0]], dtype=object),\n",
       " array([281611.,  36540., 587162., ..., 277197., 472501., 135449.]),\n",
       " array([667802., 434066., 274682., ..., 207900., 635670., 441001.]))"
      ]
     },
     "execution_count": 12,
     "metadata": {},
     "output_type": "execute_result"
    }
   ],
   "source": [
    "# Split the data set in a training set (70%) and a test set (30%)\n",
    "X_train, X_test, y_train, y_test = train_test_split(X, y, test_size=0.3)\n",
    "\n",
    "X_train, X_test, y_train, y_test "
   ]
  },
  {
   "cell_type": "code",
   "execution_count": 33,
   "metadata": {},
   "outputs": [
    {
     "data": {
      "text/plain": [
       "GradientBoostingRegressor()"
      ]
     },
     "execution_count": 33,
     "metadata": {},
     "output_type": "execute_result"
    }
   ],
   "source": [
    "# Fit regression model\n",
    "model = ensemble.GradientBoostingRegressor()\n",
    "model.fit(X_train, y_train)"
   ]
  },
  {
   "cell_type": "code",
   "execution_count": 36,
   "metadata": {},
   "outputs": [
    {
     "name": "stdout",
     "output_type": "stream",
     "text": [
      "Training Set Mean Absolute Error: 48201.7847\n",
      "Test Set Mean Absolute Error: 58654.6911\n"
     ]
    }
   ],
   "source": [
    "# Find the error rate on the training set\n",
    "mae = mean_absolute_error(y_train, model.predict(X_train))\n",
    "print(\"Training Set Mean Absolute Error: %.4f\" % mae)\n",
    "\n",
    "# Find the error rate on the test set\n",
    "mae = mean_absolute_error(y_test, model.predict(X_test))\n",
    "print(\"Test Set Mean Absolute Error: %.4f\" % mae)\n"
   ]
  },
  {
   "cell_type": "code",
   "execution_count": 35,
   "metadata": {},
   "outputs": [
    {
     "data": {
      "text/plain": [
       "GradientBoostingRegressor(loss='huber', max_depth=6, max_features=0.1,\n",
       "                          min_samples_leaf=9, n_estimators=1000,\n",
       "                          random_state=0)"
      ]
     },
     "execution_count": 35,
     "metadata": {},
     "output_type": "execute_result"
    }
   ],
   "source": [
    "# Fit regression model by fine-tuning hyper-parameters\n",
    "model = ensemble.GradientBoostingRegressor(\n",
    "    n_estimators=1000,\n",
    "    learning_rate=0.1,\n",
    "    max_depth=6,\n",
    "    min_samples_leaf=9,\n",
    "    max_features=0.1,\n",
    "    loss='huber',\n",
    "    random_state=0\n",
    ")\n",
    "model.fit(X_train, y_train)"
   ]
  },
  {
   "cell_type": "markdown",
   "metadata": {
    "collapsed": true
   },
   "source": [
    "http://scikit-learn.org/stable/modules/generated/sklearn.ensemble.GradientBoostingRegressor.html"
   ]
  },
  {
   "cell_type": "code",
   "execution_count": 37,
   "metadata": {},
   "outputs": [
    {
     "name": "stdout",
     "output_type": "stream",
     "text": [
      "city_New Robinton - 0.00%\n",
      "city_New Michele - 0.00%\n",
      "city_Martinezfort - 0.00%\n",
      "city_Julieberg - 0.00%\n",
      "city_Davidtown - 0.00%\n",
      "city_Rickytown - 0.00%\n",
      "city_Lake Jennifer - 0.01%\n",
      "city_West Brittanyview - 0.01%\n",
      "city_West Terrence - 0.01%\n",
      "city_South Stevenfurt - 0.01%\n",
      "city_East Justin - 0.01%\n",
      "city_Fosterberg - 0.01%\n",
      "city_Leahview - 0.02%\n",
      "city_Port Adamtown - 0.03%\n",
      "city_Toddshire - 0.04%\n",
      "city_Amystad - 0.04%\n",
      "city_Joshuafurt - 0.04%\n",
      "city_East Janiceville - 0.04%\n",
      "city_Brownport - 0.05%\n",
      "city_Port Daniel - 0.05%\n",
      "city_Wendybury - 0.05%\n",
      "city_Clarkberg - 0.10%\n",
      "city_West Lydia - 0.10%\n",
      "city_Port Jonathanborough - 0.12%\n",
      "garage_type_detached - 0.12%\n",
      "city_Davidfort - 0.12%\n",
      "has_central_heating - 0.19%\n",
      "city_Jenniferberg - 0.21%\n",
      "city_Lewishaven - 0.22%\n",
      "city_East Amychester - 0.22%\n",
      "city_West Gerald - 0.23%\n",
      "city_North Erinville - 0.25%\n",
      "city_East Lucas - 0.27%\n",
      "city_Richardport - 0.31%\n",
      "city_Lake Carolyn - 0.32%\n",
      "city_Morrisport - 0.32%\n",
      "city_Lake Dariusborough - 0.35%\n",
      "city_South Anthony - 0.35%\n",
      "city_West Gregoryview - 0.41%\n",
      "city_West Ann - 0.53%\n",
      "city_Justinport - 0.61%\n",
      "has_central_cooling - 0.72%\n",
      "city_Hallfort - 0.74%\n",
      "half_bathrooms - 0.92%\n",
      "city_Chadstad - 1.12%\n",
      "stories - 1.24%\n",
      "garage_type_attached - 1.30%\n",
      "city_Scottberg - 1.39%\n",
      "city_Lake Jack - 1.44%\n",
      "city_Port Andrealand - 1.45%\n",
      "num_bedrooms - 1.61%\n",
      "city_Lake Christinaport - 1.70%\n",
      "has_fireplace - 2.35%\n",
      "carport_sqft - 2.73%\n",
      "city_Jeffreyhaven - 2.91%\n",
      "year_built - 3.80%\n",
      "has_pool - 4.55%\n",
      "city_Coletown - 4.82%\n",
      "garage_type_none - 5.50%\n",
      "full_bathrooms - 11.11%\n",
      "garage_sqft - 11.80%\n",
      "total_sqft - 12.15%\n",
      "livable_sqft - 18.91%\n"
     ]
    }
   ],
   "source": [
    "import numpy as np\n",
    "\n",
    "# These are the feature labels from our data set\n",
    "feature_labels = features_df.columns\n",
    "\n",
    "# Create a numpy array based on the model's feature importances\n",
    "importance = model.feature_importances_\n",
    "\n",
    "# Sort the feature labels based on the feature importance rankings from the model\n",
    "feauture_indexes_by_importance = importance.argsort()\n",
    "\n",
    "# Print each feature label, from most important to least important (reverse order)\n",
    "for index in feauture_indexes_by_importance:\n",
    "    print(\"{} - {:.2f}%\".format(feature_labels[index], (importance[index] * 100.0)))\n"
   ]
  },
  {
   "cell_type": "code",
   "execution_count": 38,
   "metadata": {},
   "outputs": [
    {
     "name": "stdout",
     "output_type": "stream",
     "text": [
      "{'learning_rate': 0.1, 'min_samples_leaf': 9}\n",
      "Training Set Mean Absolute Error: 71745.1264\n",
      "Test Set Mean Absolute Error: 73808.2307\n"
     ]
    }
   ],
   "source": [
    "from sklearn.model_selection import GridSearchCV\n",
    "\n",
    "# Create the model\n",
    "model = ensemble.GradientBoostingRegressor()\n",
    "\n",
    "# Parameters we want to try\n",
    "param_grid = {\n",
    "    'min_samples_leaf': [3, 9],\n",
    "    'learning_rate': [0.1, 0.05],\n",
    "}\n",
    "\n",
    "#param_grid = {\n",
    "#    'n_estimators': [500, 3000],\n",
    "#    'max_depth': [4, 6],\n",
    "#    'min_samples_leaf': [3, 9],\n",
    "#    'learning_rate': [0.1, 0.05],\n",
    "#    'max_features': [0.3, 0.1],\n",
    "#    'loss': ['ls', 'huber']\n",
    "#}\n",
    "\n",
    "# Define the grid search we want to run. -1 uses all processors\n",
    "gs_cv = GridSearchCV(model, param_grid, n_jobs=-1)\n",
    "\n",
    "# Run the grid search - on only the training data!\n",
    "gs_cv.fit(X_train, y_train)\n",
    "\n",
    "# Print the parameters that gave us the best result!\n",
    "print(gs_cv.best_params_)\n",
    "\n",
    "# After running a .....long..... time, the output will be something like\n",
    "# {'loss': 'huber', 'learning_rate': 0.1, 'min_samples_leaf': 9, 'n_estimators': 3000, 'max_features': 0.1, 'max_depth': 6}\n",
    "\n",
    "# That is the combination that worked best.\n",
    "\n",
    "# Find the error rate on the training set using the best parameters\n",
    "mse = mean_absolute_error(y_train, gs_cv.predict(X_train))\n",
    "print(\"Training Set Mean Absolute Error: %.4f\" % mse)\n",
    "\n",
    "# Find the error rate on the test set using the best parameters\n",
    "mse = mean_absolute_error(y_test, gs_cv.predict(X_test))\n",
    "print(\"Test Set Mean Absolute Error: %.4f\" % mse)"
   ]
  },
  {
   "cell_type": "markdown",
   "metadata": {},
   "source": [
    "Other Datasets\n",
    "Auto MPG : https://archive.ics.uci.edu/ml/datasets/auto+mpg\n",
    "    \n",
    "Auto MPG CSV format : https://www.kaggle.com/uciml/autompg-dataset    \n",
    "        \n",
    "Bike Sharing : https://archive.ics.uci.edu/ml/datasets/Bike+Sharing+Dataset\n",
    "        \n",
    "CSV Format: https://www.kaggle.com/marklvl/bike-sharing-dataset"
   ]
  }
 ],
 "metadata": {
  "anaconda-cloud": {},
  "kernelspec": {
   "display_name": "Python 3 (ipykernel)",
   "language": "python",
   "name": "python3"
  },
  "language_info": {
   "codemirror_mode": {
    "name": "ipython",
    "version": 3
   },
   "file_extension": ".py",
   "mimetype": "text/x-python",
   "name": "python",
   "nbconvert_exporter": "python",
   "pygments_lexer": "ipython3",
   "version": "3.9.12"
  }
 },
 "nbformat": 4,
 "nbformat_minor": 1
}
